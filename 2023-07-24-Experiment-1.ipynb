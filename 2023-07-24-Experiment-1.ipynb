{
 "cells": [
  {
   "cell_type": "code",
   "execution_count": 1,
   "id": "99423089",
   "metadata": {},
   "outputs": [],
   "source": [
    "# Author: Shaun Harker\n",
    "# Date: 2023-07-08\n",
    "# License: MIT"
   ]
  },
  {
   "cell_type": "code",
   "execution_count": 2,
   "id": "8c2b4da5",
   "metadata": {},
   "outputs": [],
   "source": [
    "import torch\n",
    "from languagemodels import Trainer, LanguageModel, save_version, load_version, display_layercode\n",
    "from languagemodels import TextInput, TextOutput\n",
    "from languagemodels import TransformerLayer\n",
    "import asyncio\n",
    "import time\n",
    "import numpy as np\n",
    "import matplotlib.pyplot as plt\n",
    "import math"
   ]
  },
  {
   "cell_type": "code",
   "execution_count": 3,
   "id": "f5feb969",
   "metadata": {},
   "outputs": [
    {
     "name": "stdout",
     "output_type": "stream",
     "text": [
      "/data/models/nonstandard.pt\n"
     ]
    }
   ],
   "source": [
    "n_vocab_in = 256\n",
    "n_vocab_out = 256\n",
    "d_embd = 32\n",
    "d_model = 1024\n",
    "n_heads = 32\n",
    "d_k = 32\n",
    "d_v = 32\n",
    "d_hidden = 4096\n",
    "n_layers = 16\n",
    "bos = 0\n",
    "lr = 2e-4\n",
    "checkpointing = False\n",
    "\n",
    "input_class = TextInput\n",
    "input_config = {'n_vocab_in': n_vocab_in,\n",
    "                'd_model': d_model,\n",
    "                'bos': bos,\n",
    "               }\n",
    "\n",
    "output_class = TextOutput\n",
    "output_config = {'n_vocab_out': n_vocab_out,\n",
    "                 'd_model': d_model,\n",
    "                }\n",
    "\n",
    "\n",
    "layer_class = TransformerLayer\n",
    "layer_config = {'d_model': d_model, \n",
    "                'n_heads': n_heads,\n",
    "                'd_k': d_k,\n",
    "                'd_v': d_v,\n",
    "                'n_heads': n_heads,\n",
    "                'd_hidden': d_hidden,\n",
    "                'init_scale': 0.0,\n",
    "                'sdp': True}\n",
    "\n",
    "path = f'/data/models/nonstandard.pt'\n",
    "prefix = '/data/thepile/'\n",
    "print(path)"
   ]
  },
  {
   "cell_type": "code",
   "execution_count": 4,
   "id": "c23751b1",
   "metadata": {},
   "outputs": [],
   "source": [
    "try:\n",
    "    trainer = load_version(path=path, prefix=prefix)\n",
    "except:\n",
    "    print(\"Creating new model...\")\n",
    "    model = LanguageModel(\n",
    "        n_vocab_in=256,\n",
    "        n_vocab_out=256,\n",
    "        bos=0,\n",
    "        d_model=d_model,\n",
    "        n_layers=n_layers,\n",
    "        input_class=input_class,\n",
    "        input_config=input_config,\n",
    "        output_class=output_class,\n",
    "        output_config=output_config,\n",
    "        layer_class=layer_class,\n",
    "        layer_config=layer_config,\n",
    "        checkpointing=checkpointing)\n",
    "    trainer = Trainer(model=model, example_length=1024, prefix=prefix)\n",
    "    print(\"New model created.\")"
   ]
  },
  {
   "cell_type": "code",
   "execution_count": 5,
   "id": "c3269edb",
   "metadata": {},
   "outputs": [
    {
     "data": {
      "text/plain": [
       "LanguageModel(\n",
       "  (text_input): TextInput()\n",
       "  (layers): ModuleList(\n",
       "    (0-15): 16 x TransformerLayer(\n",
       "      (query_proj): Linear(in_features=1024, out_features=1024, bias=True)\n",
       "      (key_proj): Linear(in_features=1024, out_features=1024, bias=True)\n",
       "      (value_proj): Linear(in_features=1024, out_features=1024, bias=True)\n",
       "      (linear): Linear(in_features=1024, out_features=1024, bias=False)\n",
       "      (ln1): LayerNorm((1024,), eps=1e-05, elementwise_affine=True)\n",
       "      (ff1): Linear(in_features=1024, out_features=4096, bias=True)\n",
       "      (nonlinearity): GELU(approximate='none')\n",
       "      (ff2): Linear(in_features=4096, out_features=1024, bias=False)\n",
       "      (ln2): LayerNorm((1024,), eps=1e-05, elementwise_affine=True)\n",
       "    )\n",
       "  )\n",
       "  (text_output): TextOutput()\n",
       ")"
      ]
     },
     "execution_count": 5,
     "metadata": {},
     "output_type": "execute_result"
    }
   ],
   "source": [
    "trainer.model"
   ]
  },
  {
   "cell_type": "code",
   "execution_count": 6,
   "id": "6e61e36c",
   "metadata": {},
   "outputs": [
    {
     "data": {
      "text/plain": [
       "201506816"
      ]
     },
     "execution_count": 6,
     "metadata": {},
     "output_type": "execute_result"
    }
   ],
   "source": [
    "sum(p.numel() for p in trainer.model.parameters())"
   ]
  },
  {
   "cell_type": "code",
   "execution_count": 7,
   "id": "71c7d2bd",
   "metadata": {},
   "outputs": [],
   "source": [
    "trainer.config['batch_size'] = 8\n",
    "trainer.config['batch_multiplier'] = 1\n",
    "trainer.config['example_length'] = 1024"
   ]
  },
  {
   "cell_type": "code",
   "execution_count": 8,
   "id": "cca880ae",
   "metadata": {},
   "outputs": [
    {
     "name": "stdout",
     "output_type": "stream",
     "text": [
      "No task to cancel.\n"
     ]
    }
   ],
   "source": [
    "async def training_loop(trainer, warm_up=1000, lr=2e-4):\n",
    "    t0 = time.time()    \n",
    "    n = 0\n",
    "    rates = [1 - 1/(2**k) for k in range(20)]\n",
    "    trainer.n = 0\n",
    "    trainer.t0 = time.time()\n",
    "    trainer.rates = rates\n",
    "    while True:\n",
    "        trainer.update_lr(lr * min(1, (time.time()-t0)/warm_up))\n",
    "        t, batch, losses = trainer.train()\n",
    "        loss_by_layer = np.mean(losses,axis=(1,2))\n",
    "        if trainer.n == 0:\n",
    "            trainer.loss_by_layer_emas = np.stack([loss_by_layer for _ in range(len(rates))])\n",
    "            trainer.time_emas = [t for _ in range(len(rates))]\n",
    "        else:\n",
    "            for idx, rate in enumerate(rates):\n",
    "                trainer.loss_by_layer_emas[idx] = rate * trainer.loss_by_layer_emas[idx] + (1 - rate) * loss_by_layer\n",
    "                trainer.time_emas[idx] = rate * trainer.time_emas[idx] + (1-rate)*t\n",
    "        trainer.n += 1\n",
    "\n",
    "        await asyncio.sleep(1e-4)\n",
    "try:\n",
    "    training_task.cancel()\n",
    "except:\n",
    "    print(\"No task to cancel.\")"
   ]
  },
  {
   "cell_type": "code",
   "execution_count": 9,
   "id": "1d5d5e2f",
   "metadata": {},
   "outputs": [],
   "source": [
    "training_task = asyncio.create_task(training_loop(trainer))"
   ]
  },
  {
   "cell_type": "code",
   "execution_count": 10,
   "id": "cbfff5df",
   "metadata": {},
   "outputs": [
    {
     "name": "stdout",
     "output_type": "stream",
     "text": [
      "Stack for <Task pending name='Task-4' coro=<training_loop() running at /tmp/ipykernel_79468/847318189.py:21> wait_for=<Future finished result=None>> (most recent call last):\n"
     ]
    },
    {
     "name": "stderr",
     "output_type": "stream",
     "text": [
      "  File \"/tmp/ipykernel_79468/847318189.py\", line 21, in training_loop\n",
      "    await asyncio.sleep(1e-4)\n"
     ]
    }
   ],
   "source": [
    "training_task.print_stack()"
   ]
  },
  {
   "cell_type": "code",
   "execution_count": null,
   "id": "ad8b7fd1",
   "metadata": {},
   "outputs": [],
   "source": [
    "# training_task.cancel()"
   ]
  },
  {
   "cell_type": "code",
   "execution_count": 11,
   "id": "971e53a1",
   "metadata": {},
   "outputs": [
    {
     "data": {
      "text/plain": [
       "{'example_length': 1024,\n",
       " 'batch_size': 8,\n",
       " 'lr': 1e-06,\n",
       " 'betas': (0.9, 0.999),\n",
       " 'weight_decay': 0.001,\n",
       " 'batch_multiplier': 1}"
      ]
     },
     "execution_count": 11,
     "metadata": {},
     "output_type": "execute_result"
    }
   ],
   "source": [
    "trainer.config"
   ]
  },
  {
   "cell_type": "code",
   "execution_count": 12,
   "id": "80a255c5",
   "metadata": {},
   "outputs": [
    {
     "data": {
      "text/plain": [
       "(1.3605929601392026, 7, 5.144815683364868)"
      ]
     },
     "execution_count": 12,
     "metadata": {},
     "output_type": "execute_result"
    }
   ],
   "source": [
    "n = trainer.n\n",
    "t = time.time() - trainer.t0\n",
    "rate = n/t\n",
    "n / t, n, t"
   ]
  },
  {
   "cell_type": "code",
   "execution_count": 13,
   "id": "fbd8f7e8",
   "metadata": {},
   "outputs": [
    {
     "data": {
      "text/plain": [
       "201506816"
      ]
     },
     "execution_count": 13,
     "metadata": {},
     "output_type": "execute_result"
    }
   ],
   "source": [
    "n_params = sum(p.numel() for p in trainer.model.parameters())\n",
    "n_params"
   ]
  },
  {
   "cell_type": "code",
   "execution_count": 38,
   "id": "4ecd2c34",
   "metadata": {},
   "outputs": [
    {
     "data": {
      "text/html": [
       "<style type=\"text/css\">pre { line-height: 125%; }\n",
       "td.linenos .normal { color: inherit; background-color: transparent; padding-left: 5px; padding-right: 5px; }\n",
       "span.linenos { color: inherit; background-color: transparent; padding-left: 5px; padding-right: 5px; }\n",
       "td.linenos .special { color: #000000; background-color: #ffffc0; padding-left: 5px; padding-right: 5px; }\n",
       "span.linenos.special { color: #000000; background-color: #ffffc0; padding-left: 5px; padding-right: 5px; }\n",
       ".highlight .hll { background-color: #49483e }\n",
       ".highlight { background: #272822; color: #f8f8f2 }\n",
       ".highlight .c { color: #75715e } /* Comment */\n",
       ".highlight .err { color: #960050; background-color: #1e0010 } /* Error */\n",
       ".highlight .esc { color: #f8f8f2 } /* Escape */\n",
       ".highlight .g { color: #f8f8f2 } /* Generic */\n",
       ".highlight .k { color: #66d9ef } /* Keyword */\n",
       ".highlight .l { color: #ae81ff } /* Literal */\n",
       ".highlight .n { color: #f8f8f2 } /* Name */\n",
       ".highlight .o { color: #f92672 } /* Operator */\n",
       ".highlight .x { color: #f8f8f2 } /* Other */\n",
       ".highlight .p { color: #f8f8f2 } /* Punctuation */\n",
       ".highlight .ch { color: #75715e } /* Comment.Hashbang */\n",
       ".highlight .cm { color: #75715e } /* Comment.Multiline */\n",
       ".highlight .cp { color: #75715e } /* Comment.Preproc */\n",
       ".highlight .cpf { color: #75715e } /* Comment.PreprocFile */\n",
       ".highlight .c1 { color: #75715e } /* Comment.Single */\n",
       ".highlight .cs { color: #75715e } /* Comment.Special */\n",
       ".highlight .gd { color: #f92672 } /* Generic.Deleted */\n",
       ".highlight .ge { color: #f8f8f2; font-style: italic } /* Generic.Emph */\n",
       ".highlight .gr { color: #f8f8f2 } /* Generic.Error */\n",
       ".highlight .gh { color: #f8f8f2 } /* Generic.Heading */\n",
       ".highlight .gi { color: #a6e22e } /* Generic.Inserted */\n",
       ".highlight .go { color: #66d9ef } /* Generic.Output */\n",
       ".highlight .gp { color: #f92672; font-weight: bold } /* Generic.Prompt */\n",
       ".highlight .gs { color: #f8f8f2; font-weight: bold } /* Generic.Strong */\n",
       ".highlight .gu { color: #75715e } /* Generic.Subheading */\n",
       ".highlight .gt { color: #f8f8f2 } /* Generic.Traceback */\n",
       ".highlight .kc { color: #66d9ef } /* Keyword.Constant */\n",
       ".highlight .kd { color: #66d9ef } /* Keyword.Declaration */\n",
       ".highlight .kn { color: #f92672 } /* Keyword.Namespace */\n",
       ".highlight .kp { color: #66d9ef } /* Keyword.Pseudo */\n",
       ".highlight .kr { color: #66d9ef } /* Keyword.Reserved */\n",
       ".highlight .kt { color: #66d9ef } /* Keyword.Type */\n",
       ".highlight .ld { color: #e6db74 } /* Literal.Date */\n",
       ".highlight .m { color: #ae81ff } /* Literal.Number */\n",
       ".highlight .s { color: #e6db74 } /* Literal.String */\n",
       ".highlight .na { color: #a6e22e } /* Name.Attribute */\n",
       ".highlight .nb { color: #f8f8f2 } /* Name.Builtin */\n",
       ".highlight .nc { color: #a6e22e } /* Name.Class */\n",
       ".highlight .no { color: #66d9ef } /* Name.Constant */\n",
       ".highlight .nd { color: #a6e22e } /* Name.Decorator */\n",
       ".highlight .ni { color: #f8f8f2 } /* Name.Entity */\n",
       ".highlight .ne { color: #a6e22e } /* Name.Exception */\n",
       ".highlight .nf { color: #a6e22e } /* Name.Function */\n",
       ".highlight .nl { color: #f8f8f2 } /* Name.Label */\n",
       ".highlight .nn { color: #f8f8f2 } /* Name.Namespace */\n",
       ".highlight .nx { color: #a6e22e } /* Name.Other */\n",
       ".highlight .py { color: #f8f8f2 } /* Name.Property */\n",
       ".highlight .nt { color: #f92672 } /* Name.Tag */\n",
       ".highlight .nv { color: #f8f8f2 } /* Name.Variable */\n",
       ".highlight .ow { color: #f92672 } /* Operator.Word */\n",
       ".highlight .pm { color: #f8f8f2 } /* Punctuation.Marker */\n",
       ".highlight .w { color: #f8f8f2 } /* Text.Whitespace */\n",
       ".highlight .mb { color: #ae81ff } /* Literal.Number.Bin */\n",
       ".highlight .mf { color: #ae81ff } /* Literal.Number.Float */\n",
       ".highlight .mh { color: #ae81ff } /* Literal.Number.Hex */\n",
       ".highlight .mi { color: #ae81ff } /* Literal.Number.Integer */\n",
       ".highlight .mo { color: #ae81ff } /* Literal.Number.Oct */\n",
       ".highlight .sa { color: #e6db74 } /* Literal.String.Affix */\n",
       ".highlight .sb { color: #e6db74 } /* Literal.String.Backtick */\n",
       ".highlight .sc { color: #e6db74 } /* Literal.String.Char */\n",
       ".highlight .dl { color: #e6db74 } /* Literal.String.Delimiter */\n",
       ".highlight .sd { color: #e6db74 } /* Literal.String.Doc */\n",
       ".highlight .s2 { color: #e6db74 } /* Literal.String.Double */\n",
       ".highlight .se { color: #ae81ff } /* Literal.String.Escape */\n",
       ".highlight .sh { color: #e6db74 } /* Literal.String.Heredoc */\n",
       ".highlight .si { color: #e6db74 } /* Literal.String.Interpol */\n",
       ".highlight .sx { color: #e6db74 } /* Literal.String.Other */\n",
       ".highlight .sr { color: #e6db74 } /* Literal.String.Regex */\n",
       ".highlight .s1 { color: #e6db74 } /* Literal.String.Single */\n",
       ".highlight .ss { color: #e6db74 } /* Literal.String.Symbol */\n",
       ".highlight .bp { color: #f8f8f2 } /* Name.Builtin.Pseudo */\n",
       ".highlight .fm { color: #a6e22e } /* Name.Function.Magic */\n",
       ".highlight .vc { color: #f8f8f2 } /* Name.Variable.Class */\n",
       ".highlight .vg { color: #f8f8f2 } /* Name.Variable.Global */\n",
       ".highlight .vi { color: #f8f8f2 } /* Name.Variable.Instance */\n",
       ".highlight .vm { color: #f8f8f2 } /* Name.Variable.Magic */\n",
       ".highlight .il { color: #ae81ff } /* Literal.Number.Integer.Long */</style><div class=\"highlight\"><pre><span></span><span class=\"k\">class</span> <span class=\"nc\">TextInput</span><span class=\"p\">(</span><span class=\"n\">Module</span><span class=\"p\">):</span>\n",
       "    <span class=\"k\">def</span> <span class=\"fm\">__init__</span><span class=\"p\">(</span><span class=\"bp\">self</span><span class=\"p\">,</span> <span class=\"n\">n_vocab_in</span><span class=\"p\">,</span> <span class=\"n\">d_model</span><span class=\"p\">,</span> <span class=\"n\">bos</span><span class=\"o\">=</span><span class=\"mi\">0</span><span class=\"p\">,</span> <span class=\"o\">**</span><span class=\"n\">kwargs</span><span class=\"p\">):</span>\n",
       "        <span class=\"nb\">super</span><span class=\"p\">()</span><span class=\"o\">.</span><span class=\"fm\">__init__</span><span class=\"p\">()</span>\n",
       "        <span class=\"bp\">self</span><span class=\"o\">.</span><span class=\"n\">bos</span> <span class=\"o\">=</span> <span class=\"n\">bos</span>\n",
       "        <span class=\"bp\">self</span><span class=\"o\">.</span><span class=\"n\">n_vocab_in</span> <span class=\"o\">=</span> <span class=\"n\">n_vocab_in</span>\n",
       "        <span class=\"bp\">self</span><span class=\"o\">.</span><span class=\"n\">d_model</span> <span class=\"o\">=</span> <span class=\"n\">d_model</span>\n",
       "        <span class=\"k\">assert</span> <span class=\"n\">n_vocab_in</span> <span class=\"o\">&lt;=</span> <span class=\"n\">d_model</span>\n",
       "\n",
       "    <span class=\"k\">def</span> <span class=\"nf\">forward</span><span class=\"p\">(</span><span class=\"bp\">self</span><span class=\"p\">,</span> <span class=\"n\">input_ids</span><span class=\"p\">):</span>\n",
       "        <span class=\"k\">return</span> <span class=\"n\">one_hot</span><span class=\"p\">(</span><span class=\"n\">pad</span><span class=\"p\">(</span><span class=\"n\">input_ids</span><span class=\"p\">,</span> <span class=\"p\">(</span><span class=\"mi\">1</span><span class=\"p\">,</span> <span class=\"mi\">0</span><span class=\"p\">),</span> <span class=\"s2\">&quot;constant&quot;</span><span class=\"p\">,</span> <span class=\"bp\">self</span><span class=\"o\">.</span><span class=\"n\">bos</span><span class=\"p\">),</span> <span class=\"bp\">self</span><span class=\"o\">.</span><span class=\"n\">d_model</span><span class=\"p\">)</span><span class=\"o\">.</span><span class=\"n\">float</span><span class=\"p\">()</span>\n",
       "\n",
       "    <span class=\"k\">def</span> <span class=\"nf\">insert_layer</span><span class=\"p\">(</span><span class=\"bp\">self</span><span class=\"p\">,</span> <span class=\"n\">index</span><span class=\"p\">,</span> <span class=\"o\">**</span><span class=\"n\">kwargs</span><span class=\"p\">):</span>\n",
       "        <span class=\"k\">return</span> <span class=\"p\">[]</span>\n",
       "    \n",
       "    <span class=\"k\">def</span> <span class=\"nf\">append_layer</span><span class=\"p\">(</span><span class=\"bp\">self</span><span class=\"p\">,</span> <span class=\"o\">**</span><span class=\"n\">kwargs</span><span class=\"p\">):</span>\n",
       "        <span class=\"k\">return</span> <span class=\"p\">[]</span>\n",
       "\n",
       "    <span class=\"k\">def</span> <span class=\"nf\">prepend_layer</span><span class=\"p\">(</span><span class=\"bp\">self</span><span class=\"p\">,</span> <span class=\"o\">**</span><span class=\"n\">kwargs</span><span class=\"p\">):</span>\n",
       "        <span class=\"k\">return</span> <span class=\"p\">[]</span>\n",
       "</pre></div>\n"
      ],
      "text/plain": [
       "<IPython.core.display.HTML object>"
      ]
     },
     "execution_count": 38,
     "metadata": {},
     "output_type": "execute_result"
    }
   ],
   "source": [
    "display_layercode(trainer.model.input_classcode)"
   ]
  },
  {
   "cell_type": "code",
   "execution_count": 39,
   "id": "0530e8ba",
   "metadata": {},
   "outputs": [
    {
     "data": {
      "text/html": [
       "<style type=\"text/css\">pre { line-height: 125%; }\n",
       "td.linenos .normal { color: inherit; background-color: transparent; padding-left: 5px; padding-right: 5px; }\n",
       "span.linenos { color: inherit; background-color: transparent; padding-left: 5px; padding-right: 5px; }\n",
       "td.linenos .special { color: #000000; background-color: #ffffc0; padding-left: 5px; padding-right: 5px; }\n",
       "span.linenos.special { color: #000000; background-color: #ffffc0; padding-left: 5px; padding-right: 5px; }\n",
       ".highlight .hll { background-color: #49483e }\n",
       ".highlight { background: #272822; color: #f8f8f2 }\n",
       ".highlight .c { color: #75715e } /* Comment */\n",
       ".highlight .err { color: #960050; background-color: #1e0010 } /* Error */\n",
       ".highlight .esc { color: #f8f8f2 } /* Escape */\n",
       ".highlight .g { color: #f8f8f2 } /* Generic */\n",
       ".highlight .k { color: #66d9ef } /* Keyword */\n",
       ".highlight .l { color: #ae81ff } /* Literal */\n",
       ".highlight .n { color: #f8f8f2 } /* Name */\n",
       ".highlight .o { color: #f92672 } /* Operator */\n",
       ".highlight .x { color: #f8f8f2 } /* Other */\n",
       ".highlight .p { color: #f8f8f2 } /* Punctuation */\n",
       ".highlight .ch { color: #75715e } /* Comment.Hashbang */\n",
       ".highlight .cm { color: #75715e } /* Comment.Multiline */\n",
       ".highlight .cp { color: #75715e } /* Comment.Preproc */\n",
       ".highlight .cpf { color: #75715e } /* Comment.PreprocFile */\n",
       ".highlight .c1 { color: #75715e } /* Comment.Single */\n",
       ".highlight .cs { color: #75715e } /* Comment.Special */\n",
       ".highlight .gd { color: #f92672 } /* Generic.Deleted */\n",
       ".highlight .ge { color: #f8f8f2; font-style: italic } /* Generic.Emph */\n",
       ".highlight .gr { color: #f8f8f2 } /* Generic.Error */\n",
       ".highlight .gh { color: #f8f8f2 } /* Generic.Heading */\n",
       ".highlight .gi { color: #a6e22e } /* Generic.Inserted */\n",
       ".highlight .go { color: #66d9ef } /* Generic.Output */\n",
       ".highlight .gp { color: #f92672; font-weight: bold } /* Generic.Prompt */\n",
       ".highlight .gs { color: #f8f8f2; font-weight: bold } /* Generic.Strong */\n",
       ".highlight .gu { color: #75715e } /* Generic.Subheading */\n",
       ".highlight .gt { color: #f8f8f2 } /* Generic.Traceback */\n",
       ".highlight .kc { color: #66d9ef } /* Keyword.Constant */\n",
       ".highlight .kd { color: #66d9ef } /* Keyword.Declaration */\n",
       ".highlight .kn { color: #f92672 } /* Keyword.Namespace */\n",
       ".highlight .kp { color: #66d9ef } /* Keyword.Pseudo */\n",
       ".highlight .kr { color: #66d9ef } /* Keyword.Reserved */\n",
       ".highlight .kt { color: #66d9ef } /* Keyword.Type */\n",
       ".highlight .ld { color: #e6db74 } /* Literal.Date */\n",
       ".highlight .m { color: #ae81ff } /* Literal.Number */\n",
       ".highlight .s { color: #e6db74 } /* Literal.String */\n",
       ".highlight .na { color: #a6e22e } /* Name.Attribute */\n",
       ".highlight .nb { color: #f8f8f2 } /* Name.Builtin */\n",
       ".highlight .nc { color: #a6e22e } /* Name.Class */\n",
       ".highlight .no { color: #66d9ef } /* Name.Constant */\n",
       ".highlight .nd { color: #a6e22e } /* Name.Decorator */\n",
       ".highlight .ni { color: #f8f8f2 } /* Name.Entity */\n",
       ".highlight .ne { color: #a6e22e } /* Name.Exception */\n",
       ".highlight .nf { color: #a6e22e } /* Name.Function */\n",
       ".highlight .nl { color: #f8f8f2 } /* Name.Label */\n",
       ".highlight .nn { color: #f8f8f2 } /* Name.Namespace */\n",
       ".highlight .nx { color: #a6e22e } /* Name.Other */\n",
       ".highlight .py { color: #f8f8f2 } /* Name.Property */\n",
       ".highlight .nt { color: #f92672 } /* Name.Tag */\n",
       ".highlight .nv { color: #f8f8f2 } /* Name.Variable */\n",
       ".highlight .ow { color: #f92672 } /* Operator.Word */\n",
       ".highlight .pm { color: #f8f8f2 } /* Punctuation.Marker */\n",
       ".highlight .w { color: #f8f8f2 } /* Text.Whitespace */\n",
       ".highlight .mb { color: #ae81ff } /* Literal.Number.Bin */\n",
       ".highlight .mf { color: #ae81ff } /* Literal.Number.Float */\n",
       ".highlight .mh { color: #ae81ff } /* Literal.Number.Hex */\n",
       ".highlight .mi { color: #ae81ff } /* Literal.Number.Integer */\n",
       ".highlight .mo { color: #ae81ff } /* Literal.Number.Oct */\n",
       ".highlight .sa { color: #e6db74 } /* Literal.String.Affix */\n",
       ".highlight .sb { color: #e6db74 } /* Literal.String.Backtick */\n",
       ".highlight .sc { color: #e6db74 } /* Literal.String.Char */\n",
       ".highlight .dl { color: #e6db74 } /* Literal.String.Delimiter */\n",
       ".highlight .sd { color: #e6db74 } /* Literal.String.Doc */\n",
       ".highlight .s2 { color: #e6db74 } /* Literal.String.Double */\n",
       ".highlight .se { color: #ae81ff } /* Literal.String.Escape */\n",
       ".highlight .sh { color: #e6db74 } /* Literal.String.Heredoc */\n",
       ".highlight .si { color: #e6db74 } /* Literal.String.Interpol */\n",
       ".highlight .sx { color: #e6db74 } /* Literal.String.Other */\n",
       ".highlight .sr { color: #e6db74 } /* Literal.String.Regex */\n",
       ".highlight .s1 { color: #e6db74 } /* Literal.String.Single */\n",
       ".highlight .ss { color: #e6db74 } /* Literal.String.Symbol */\n",
       ".highlight .bp { color: #f8f8f2 } /* Name.Builtin.Pseudo */\n",
       ".highlight .fm { color: #a6e22e } /* Name.Function.Magic */\n",
       ".highlight .vc { color: #f8f8f2 } /* Name.Variable.Class */\n",
       ".highlight .vg { color: #f8f8f2 } /* Name.Variable.Global */\n",
       ".highlight .vi { color: #f8f8f2 } /* Name.Variable.Instance */\n",
       ".highlight .vm { color: #f8f8f2 } /* Name.Variable.Magic */\n",
       ".highlight .il { color: #ae81ff } /* Literal.Number.Integer.Long */</style><div class=\"highlight\"><pre><span></span><span class=\"k\">class</span> <span class=\"nc\">TextOutput</span><span class=\"p\">(</span><span class=\"n\">Module</span><span class=\"p\">):</span>\n",
       "    <span class=\"k\">def</span> <span class=\"fm\">__init__</span><span class=\"p\">(</span><span class=\"bp\">self</span><span class=\"p\">,</span> <span class=\"n\">n_vocab_out</span><span class=\"p\">,</span> <span class=\"n\">d_model</span><span class=\"p\">,</span> <span class=\"o\">**</span><span class=\"n\">kwargs</span><span class=\"p\">):</span>\n",
       "        <span class=\"nb\">super</span><span class=\"p\">()</span><span class=\"o\">.</span><span class=\"fm\">__init__</span><span class=\"p\">()</span>\n",
       "        <span class=\"bp\">self</span><span class=\"o\">.</span><span class=\"n\">n_vocab_out</span> <span class=\"o\">=</span> <span class=\"n\">n_vocab_out</span>\n",
       "        <span class=\"bp\">self</span><span class=\"o\">.</span><span class=\"n\">d_model</span> <span class=\"o\">=</span> <span class=\"n\">d_model</span>\n",
       "\n",
       "    <span class=\"k\">def</span> <span class=\"nf\">forward</span><span class=\"p\">(</span><span class=\"bp\">self</span><span class=\"p\">,</span> <span class=\"n\">x</span><span class=\"p\">):</span>\n",
       "        <span class=\"n\">logits</span> <span class=\"o\">=</span> <span class=\"n\">x</span><span class=\"p\">[</span><span class=\"o\">...</span><span class=\"p\">,</span> <span class=\"o\">-</span><span class=\"bp\">self</span><span class=\"o\">.</span><span class=\"n\">n_vocab_out</span><span class=\"p\">:]</span>\n",
       "        <span class=\"n\">probs</span> <span class=\"o\">=</span> <span class=\"n\">softmax</span><span class=\"p\">(</span><span class=\"n\">logits</span><span class=\"p\">,</span> <span class=\"n\">dim</span><span class=\"o\">=-</span><span class=\"mi\">1</span><span class=\"p\">)</span>\n",
       "        <span class=\"k\">return</span> <span class=\"n\">probs</span>\n",
       "    \n",
       "    <span class=\"k\">def</span> <span class=\"nf\">insert_layer</span><span class=\"p\">(</span><span class=\"bp\">self</span><span class=\"p\">,</span> <span class=\"n\">index</span><span class=\"p\">,</span> <span class=\"o\">**</span><span class=\"n\">kwargs</span><span class=\"p\">):</span>\n",
       "        <span class=\"k\">return</span> <span class=\"p\">[]</span>\n",
       "    \n",
       "    <span class=\"k\">def</span> <span class=\"nf\">append_layer</span><span class=\"p\">(</span><span class=\"bp\">self</span><span class=\"p\">,</span> <span class=\"o\">**</span><span class=\"n\">kwargs</span><span class=\"p\">):</span>\n",
       "        <span class=\"k\">return</span> <span class=\"p\">[]</span>\n",
       "\n",
       "    <span class=\"k\">def</span> <span class=\"nf\">prepend_layer</span><span class=\"p\">(</span><span class=\"bp\">self</span><span class=\"p\">,</span> <span class=\"o\">**</span><span class=\"n\">kwargs</span><span class=\"p\">):</span>\n",
       "        <span class=\"k\">return</span> <span class=\"p\">[]</span>\n",
       "</pre></div>\n"
      ],
      "text/plain": [
       "<IPython.core.display.HTML object>"
      ]
     },
     "execution_count": 39,
     "metadata": {},
     "output_type": "execute_result"
    }
   ],
   "source": [
    "display_layercode(trainer.model.output_classcode)"
   ]
  },
  {
   "cell_type": "code",
   "execution_count": 40,
   "id": "87c37d23",
   "metadata": {},
   "outputs": [
    {
     "data": {
      "text/html": [
       "<style type=\"text/css\">pre { line-height: 125%; }\n",
       "td.linenos .normal { color: inherit; background-color: transparent; padding-left: 5px; padding-right: 5px; }\n",
       "span.linenos { color: inherit; background-color: transparent; padding-left: 5px; padding-right: 5px; }\n",
       "td.linenos .special { color: #000000; background-color: #ffffc0; padding-left: 5px; padding-right: 5px; }\n",
       "span.linenos.special { color: #000000; background-color: #ffffc0; padding-left: 5px; padding-right: 5px; }\n",
       ".highlight .hll { background-color: #49483e }\n",
       ".highlight { background: #272822; color: #f8f8f2 }\n",
       ".highlight .c { color: #75715e } /* Comment */\n",
       ".highlight .err { color: #960050; background-color: #1e0010 } /* Error */\n",
       ".highlight .esc { color: #f8f8f2 } /* Escape */\n",
       ".highlight .g { color: #f8f8f2 } /* Generic */\n",
       ".highlight .k { color: #66d9ef } /* Keyword */\n",
       ".highlight .l { color: #ae81ff } /* Literal */\n",
       ".highlight .n { color: #f8f8f2 } /* Name */\n",
       ".highlight .o { color: #f92672 } /* Operator */\n",
       ".highlight .x { color: #f8f8f2 } /* Other */\n",
       ".highlight .p { color: #f8f8f2 } /* Punctuation */\n",
       ".highlight .ch { color: #75715e } /* Comment.Hashbang */\n",
       ".highlight .cm { color: #75715e } /* Comment.Multiline */\n",
       ".highlight .cp { color: #75715e } /* Comment.Preproc */\n",
       ".highlight .cpf { color: #75715e } /* Comment.PreprocFile */\n",
       ".highlight .c1 { color: #75715e } /* Comment.Single */\n",
       ".highlight .cs { color: #75715e } /* Comment.Special */\n",
       ".highlight .gd { color: #f92672 } /* Generic.Deleted */\n",
       ".highlight .ge { color: #f8f8f2; font-style: italic } /* Generic.Emph */\n",
       ".highlight .gr { color: #f8f8f2 } /* Generic.Error */\n",
       ".highlight .gh { color: #f8f8f2 } /* Generic.Heading */\n",
       ".highlight .gi { color: #a6e22e } /* Generic.Inserted */\n",
       ".highlight .go { color: #66d9ef } /* Generic.Output */\n",
       ".highlight .gp { color: #f92672; font-weight: bold } /* Generic.Prompt */\n",
       ".highlight .gs { color: #f8f8f2; font-weight: bold } /* Generic.Strong */\n",
       ".highlight .gu { color: #75715e } /* Generic.Subheading */\n",
       ".highlight .gt { color: #f8f8f2 } /* Generic.Traceback */\n",
       ".highlight .kc { color: #66d9ef } /* Keyword.Constant */\n",
       ".highlight .kd { color: #66d9ef } /* Keyword.Declaration */\n",
       ".highlight .kn { color: #f92672 } /* Keyword.Namespace */\n",
       ".highlight .kp { color: #66d9ef } /* Keyword.Pseudo */\n",
       ".highlight .kr { color: #66d9ef } /* Keyword.Reserved */\n",
       ".highlight .kt { color: #66d9ef } /* Keyword.Type */\n",
       ".highlight .ld { color: #e6db74 } /* Literal.Date */\n",
       ".highlight .m { color: #ae81ff } /* Literal.Number */\n",
       ".highlight .s { color: #e6db74 } /* Literal.String */\n",
       ".highlight .na { color: #a6e22e } /* Name.Attribute */\n",
       ".highlight .nb { color: #f8f8f2 } /* Name.Builtin */\n",
       ".highlight .nc { color: #a6e22e } /* Name.Class */\n",
       ".highlight .no { color: #66d9ef } /* Name.Constant */\n",
       ".highlight .nd { color: #a6e22e } /* Name.Decorator */\n",
       ".highlight .ni { color: #f8f8f2 } /* Name.Entity */\n",
       ".highlight .ne { color: #a6e22e } /* Name.Exception */\n",
       ".highlight .nf { color: #a6e22e } /* Name.Function */\n",
       ".highlight .nl { color: #f8f8f2 } /* Name.Label */\n",
       ".highlight .nn { color: #f8f8f2 } /* Name.Namespace */\n",
       ".highlight .nx { color: #a6e22e } /* Name.Other */\n",
       ".highlight .py { color: #f8f8f2 } /* Name.Property */\n",
       ".highlight .nt { color: #f92672 } /* Name.Tag */\n",
       ".highlight .nv { color: #f8f8f2 } /* Name.Variable */\n",
       ".highlight .ow { color: #f92672 } /* Operator.Word */\n",
       ".highlight .pm { color: #f8f8f2 } /* Punctuation.Marker */\n",
       ".highlight .w { color: #f8f8f2 } /* Text.Whitespace */\n",
       ".highlight .mb { color: #ae81ff } /* Literal.Number.Bin */\n",
       ".highlight .mf { color: #ae81ff } /* Literal.Number.Float */\n",
       ".highlight .mh { color: #ae81ff } /* Literal.Number.Hex */\n",
       ".highlight .mi { color: #ae81ff } /* Literal.Number.Integer */\n",
       ".highlight .mo { color: #ae81ff } /* Literal.Number.Oct */\n",
       ".highlight .sa { color: #e6db74 } /* Literal.String.Affix */\n",
       ".highlight .sb { color: #e6db74 } /* Literal.String.Backtick */\n",
       ".highlight .sc { color: #e6db74 } /* Literal.String.Char */\n",
       ".highlight .dl { color: #e6db74 } /* Literal.String.Delimiter */\n",
       ".highlight .sd { color: #e6db74 } /* Literal.String.Doc */\n",
       ".highlight .s2 { color: #e6db74 } /* Literal.String.Double */\n",
       ".highlight .se { color: #ae81ff } /* Literal.String.Escape */\n",
       ".highlight .sh { color: #e6db74 } /* Literal.String.Heredoc */\n",
       ".highlight .si { color: #e6db74 } /* Literal.String.Interpol */\n",
       ".highlight .sx { color: #e6db74 } /* Literal.String.Other */\n",
       ".highlight .sr { color: #e6db74 } /* Literal.String.Regex */\n",
       ".highlight .s1 { color: #e6db74 } /* Literal.String.Single */\n",
       ".highlight .ss { color: #e6db74 } /* Literal.String.Symbol */\n",
       ".highlight .bp { color: #f8f8f2 } /* Name.Builtin.Pseudo */\n",
       ".highlight .fm { color: #a6e22e } /* Name.Function.Magic */\n",
       ".highlight .vc { color: #f8f8f2 } /* Name.Variable.Class */\n",
       ".highlight .vg { color: #f8f8f2 } /* Name.Variable.Global */\n",
       ".highlight .vi { color: #f8f8f2 } /* Name.Variable.Instance */\n",
       ".highlight .vm { color: #f8f8f2 } /* Name.Variable.Magic */\n",
       ".highlight .il { color: #ae81ff } /* Literal.Number.Integer.Long */</style><div class=\"highlight\"><pre><span></span><span class=\"k\">class</span> <span class=\"nc\">TransformerLayer</span><span class=\"p\">(</span><span class=\"n\">Module</span><span class=\"p\">):</span>\n",
       "    <span class=\"k\">def</span> <span class=\"fm\">__init__</span><span class=\"p\">(</span><span class=\"bp\">self</span><span class=\"p\">,</span> <span class=\"n\">d_model</span><span class=\"p\">,</span> <span class=\"n\">d_k</span><span class=\"p\">,</span> <span class=\"n\">d_v</span><span class=\"p\">,</span> <span class=\"n\">n_heads</span><span class=\"p\">,</span> <span class=\"n\">d_hidden</span><span class=\"p\">,</span> <span class=\"n\">sdp</span><span class=\"o\">=</span><span class=\"kc\">True</span><span class=\"p\">,</span> <span class=\"n\">init_scale</span><span class=\"o\">=</span><span class=\"mf\">1.0</span><span class=\"p\">):</span>\n",
       "        <span class=\"nb\">super</span><span class=\"p\">()</span><span class=\"o\">.</span><span class=\"fm\">__init__</span><span class=\"p\">()</span>\n",
       "        <span class=\"bp\">self</span><span class=\"o\">.</span><span class=\"n\">d_k</span> <span class=\"o\">=</span> <span class=\"n\">d_k</span>\n",
       "        <span class=\"bp\">self</span><span class=\"o\">.</span><span class=\"n\">d_v</span> <span class=\"o\">=</span> <span class=\"n\">d_v</span>\n",
       "        <span class=\"bp\">self</span><span class=\"o\">.</span><span class=\"n\">n_heads</span> <span class=\"o\">=</span> <span class=\"n\">n_heads</span>\n",
       "        \n",
       "        <span class=\"bp\">self</span><span class=\"o\">.</span><span class=\"n\">split_heads</span> <span class=\"o\">=</span> <span class=\"k\">lambda</span> <span class=\"n\">x</span><span class=\"p\">:</span> <span class=\"n\">x</span><span class=\"o\">.</span><span class=\"n\">view</span><span class=\"p\">(</span><span class=\"n\">x</span><span class=\"o\">.</span><span class=\"n\">shape</span><span class=\"p\">[:</span><span class=\"o\">-</span><span class=\"mi\">1</span><span class=\"p\">]</span><span class=\"o\">+</span><span class=\"p\">(</span><span class=\"bp\">self</span><span class=\"o\">.</span><span class=\"n\">n_heads</span><span class=\"p\">,</span><span class=\"bp\">self</span><span class=\"o\">.</span><span class=\"n\">d_k</span><span class=\"p\">))</span><span class=\"o\">.</span><span class=\"n\">transpose</span><span class=\"p\">(</span><span class=\"o\">-</span><span class=\"mi\">2</span><span class=\"p\">,</span><span class=\"o\">-</span><span class=\"mi\">3</span><span class=\"p\">)</span><span class=\"o\">.</span><span class=\"n\">contiguous</span><span class=\"p\">()</span>\n",
       "        <span class=\"bp\">self</span><span class=\"o\">.</span><span class=\"n\">merge_heads</span> <span class=\"o\">=</span> <span class=\"k\">lambda</span> <span class=\"n\">x</span><span class=\"p\">:</span> <span class=\"n\">x</span><span class=\"o\">.</span><span class=\"n\">transpose</span><span class=\"p\">(</span><span class=\"o\">-</span><span class=\"mi\">2</span><span class=\"p\">,</span><span class=\"o\">-</span><span class=\"mi\">3</span><span class=\"p\">)</span><span class=\"o\">.</span><span class=\"n\">contiguous</span><span class=\"p\">()</span><span class=\"o\">.</span><span class=\"n\">view</span><span class=\"p\">(</span><span class=\"n\">x</span><span class=\"o\">.</span><span class=\"n\">shape</span><span class=\"p\">[:</span><span class=\"o\">-</span><span class=\"mi\">3</span><span class=\"p\">]</span><span class=\"o\">+</span><span class=\"p\">(</span><span class=\"o\">-</span><span class=\"mi\">1</span><span class=\"p\">,</span><span class=\"bp\">self</span><span class=\"o\">.</span><span class=\"n\">n_heads</span><span class=\"o\">*</span><span class=\"bp\">self</span><span class=\"o\">.</span><span class=\"n\">d_v</span><span class=\"p\">))</span>\n",
       "\n",
       "        <span class=\"bp\">self</span><span class=\"o\">.</span><span class=\"n\">query_proj</span> <span class=\"o\">=</span> <span class=\"n\">Linear</span><span class=\"p\">(</span><span class=\"n\">d_model</span><span class=\"p\">,</span> <span class=\"n\">d_k</span><span class=\"o\">*</span><span class=\"n\">n_heads</span><span class=\"p\">,</span> <span class=\"n\">bias</span><span class=\"o\">=</span><span class=\"kc\">True</span><span class=\"p\">)</span>\n",
       "        <span class=\"bp\">self</span><span class=\"o\">.</span><span class=\"n\">key_proj</span> <span class=\"o\">=</span> <span class=\"n\">Linear</span><span class=\"p\">(</span><span class=\"n\">d_model</span><span class=\"p\">,</span> <span class=\"n\">d_k</span><span class=\"o\">*</span><span class=\"n\">n_heads</span><span class=\"p\">,</span> <span class=\"n\">bias</span><span class=\"o\">=</span><span class=\"kc\">True</span><span class=\"p\">)</span>\n",
       "        <span class=\"bp\">self</span><span class=\"o\">.</span><span class=\"n\">value_proj</span> <span class=\"o\">=</span> <span class=\"n\">Linear</span><span class=\"p\">(</span><span class=\"n\">d_model</span><span class=\"p\">,</span> <span class=\"n\">d_v</span><span class=\"o\">*</span><span class=\"n\">n_heads</span><span class=\"p\">,</span> <span class=\"n\">bias</span><span class=\"o\">=</span><span class=\"kc\">True</span><span class=\"p\">)</span>\n",
       "        <span class=\"bp\">self</span><span class=\"o\">.</span><span class=\"n\">linear</span> <span class=\"o\">=</span> <span class=\"n\">Linear</span><span class=\"p\">(</span><span class=\"n\">d_v</span><span class=\"o\">*</span><span class=\"n\">n_heads</span><span class=\"p\">,</span> <span class=\"n\">d_model</span><span class=\"p\">,</span> <span class=\"n\">bias</span><span class=\"o\">=</span><span class=\"kc\">False</span><span class=\"p\">)</span>\n",
       "        <span class=\"bp\">self</span><span class=\"o\">.</span><span class=\"n\">ln1</span> <span class=\"o\">=</span> <span class=\"n\">LayerNorm</span><span class=\"p\">(</span><span class=\"n\">d_model</span><span class=\"p\">)</span>\n",
       "\n",
       "        <span class=\"bp\">self</span><span class=\"o\">.</span><span class=\"n\">ff1</span> <span class=\"o\">=</span> <span class=\"n\">Linear</span><span class=\"p\">(</span><span class=\"n\">d_model</span><span class=\"p\">,</span> <span class=\"n\">d_hidden</span><span class=\"p\">,</span> <span class=\"n\">bias</span><span class=\"o\">=</span><span class=\"kc\">True</span><span class=\"p\">)</span>\n",
       "        <span class=\"bp\">self</span><span class=\"o\">.</span><span class=\"n\">nonlinearity</span> <span class=\"o\">=</span> <span class=\"n\">GELU</span><span class=\"p\">()</span>\n",
       "        <span class=\"bp\">self</span><span class=\"o\">.</span><span class=\"n\">ff2</span> <span class=\"o\">=</span> <span class=\"n\">Linear</span><span class=\"p\">(</span><span class=\"n\">d_hidden</span><span class=\"p\">,</span> <span class=\"n\">d_model</span><span class=\"p\">,</span> <span class=\"n\">bias</span><span class=\"o\">=</span><span class=\"kc\">False</span><span class=\"p\">)</span>\n",
       "        <span class=\"bp\">self</span><span class=\"o\">.</span><span class=\"n\">ln2</span> <span class=\"o\">=</span> <span class=\"n\">LayerNorm</span><span class=\"p\">(</span><span class=\"n\">d_model</span><span class=\"p\">)</span>\n",
       "        <span class=\"bp\">self</span><span class=\"o\">.</span><span class=\"n\">ln1</span><span class=\"o\">.</span><span class=\"n\">weight</span><span class=\"o\">.</span><span class=\"n\">data</span> <span class=\"o\">*=</span> <span class=\"n\">init_scale</span>\n",
       "        <span class=\"bp\">self</span><span class=\"o\">.</span><span class=\"n\">ln2</span><span class=\"o\">.</span><span class=\"n\">weight</span><span class=\"o\">.</span><span class=\"n\">data</span> <span class=\"o\">*=</span> <span class=\"n\">init_scale</span>\n",
       "        <span class=\"bp\">self</span><span class=\"o\">.</span><span class=\"n\">sdp</span> <span class=\"o\">=</span> <span class=\"n\">sdp</span>\n",
       "\n",
       "    <span class=\"k\">def</span> <span class=\"nf\">forward</span><span class=\"p\">(</span><span class=\"bp\">self</span><span class=\"p\">,</span> <span class=\"n\">x</span><span class=\"p\">,</span> <span class=\"n\">layer_data</span><span class=\"o\">=</span><span class=\"kc\">None</span><span class=\"p\">):</span>\n",
       "        <span class=\"n\">is_causal</span> <span class=\"o\">=</span> <span class=\"kc\">True</span>\n",
       "        <span class=\"k\">if</span> <span class=\"n\">layer_data</span> <span class=\"ow\">is</span> <span class=\"kc\">None</span><span class=\"p\">:</span>\n",
       "            <span class=\"p\">(</span><span class=\"n\">Q</span><span class=\"p\">,</span> <span class=\"n\">K</span><span class=\"p\">,</span> <span class=\"n\">V</span><span class=\"p\">)</span> <span class=\"o\">=</span> <span class=\"nb\">map</span><span class=\"p\">(</span><span class=\"bp\">self</span><span class=\"o\">.</span><span class=\"n\">split_heads</span><span class=\"p\">,(</span><span class=\"bp\">self</span><span class=\"o\">.</span><span class=\"n\">query_proj</span><span class=\"p\">(</span><span class=\"n\">x</span><span class=\"p\">),</span><span class=\"bp\">self</span><span class=\"o\">.</span><span class=\"n\">key_proj</span><span class=\"p\">(</span><span class=\"n\">x</span><span class=\"p\">),</span><span class=\"bp\">self</span><span class=\"o\">.</span><span class=\"n\">value_proj</span><span class=\"p\">(</span><span class=\"n\">x</span><span class=\"p\">)))</span>\n",
       "        <span class=\"k\">else</span><span class=\"p\">:</span>\n",
       "            <span class=\"c1\"># in this mode, layer_data has (K, V), and x has suffix for which we haven&#39;t made predictions yet</span>\n",
       "            <span class=\"k\">if</span> <span class=\"nb\">len</span><span class=\"p\">(</span><span class=\"n\">layer_data</span><span class=\"p\">)</span> <span class=\"o\">==</span> <span class=\"mi\">2</span><span class=\"p\">:</span>\n",
       "                <span class=\"n\">is_causal</span> <span class=\"o\">=</span> <span class=\"kc\">False</span>\n",
       "                <span class=\"p\">(</span><span class=\"n\">Ki</span><span class=\"p\">,</span> <span class=\"n\">Vi</span><span class=\"p\">)</span> <span class=\"o\">=</span> <span class=\"n\">layer_data</span>\n",
       "                <span class=\"p\">(</span><span class=\"n\">Q</span><span class=\"p\">,</span> <span class=\"n\">Kf</span><span class=\"p\">,</span> <span class=\"n\">Vf</span><span class=\"p\">)</span> <span class=\"o\">=</span> <span class=\"nb\">map</span><span class=\"p\">(</span><span class=\"bp\">self</span><span class=\"o\">.</span><span class=\"n\">split_heads</span><span class=\"p\">,(</span><span class=\"bp\">self</span><span class=\"o\">.</span><span class=\"n\">query_proj</span><span class=\"p\">(</span><span class=\"n\">x</span><span class=\"p\">),</span><span class=\"bp\">self</span><span class=\"o\">.</span><span class=\"n\">key_proj</span><span class=\"p\">(</span><span class=\"n\">x</span><span class=\"p\">),</span><span class=\"bp\">self</span><span class=\"o\">.</span><span class=\"n\">value_proj</span><span class=\"p\">(</span><span class=\"n\">x</span><span class=\"p\">)))</span>\n",
       "                <span class=\"n\">K</span> <span class=\"o\">=</span> <span class=\"n\">torch</span><span class=\"o\">.</span><span class=\"n\">cat</span><span class=\"p\">([</span><span class=\"n\">Ki</span><span class=\"p\">,</span> <span class=\"n\">Kf</span><span class=\"p\">],</span> <span class=\"n\">dim</span><span class=\"o\">=-</span><span class=\"mi\">2</span><span class=\"p\">)</span>\n",
       "                <span class=\"n\">V</span> <span class=\"o\">=</span> <span class=\"n\">torch</span><span class=\"o\">.</span><span class=\"n\">cat</span><span class=\"p\">([</span><span class=\"n\">Vi</span><span class=\"p\">,</span> <span class=\"n\">Vf</span><span class=\"p\">],</span> <span class=\"n\">dim</span><span class=\"o\">=-</span><span class=\"mi\">2</span><span class=\"p\">)</span>\n",
       "                <span class=\"n\">layer_data</span><span class=\"p\">[</span><span class=\"mi\">0</span><span class=\"p\">]</span> <span class=\"o\">=</span> <span class=\"n\">K</span>\n",
       "                <span class=\"n\">layer_data</span><span class=\"p\">[</span><span class=\"mi\">1</span><span class=\"p\">]</span> <span class=\"o\">=</span> <span class=\"n\">V</span>\n",
       "            <span class=\"k\">elif</span> <span class=\"nb\">len</span><span class=\"p\">(</span><span class=\"n\">layer_data</span><span class=\"p\">)</span> <span class=\"o\">==</span> <span class=\"mi\">0</span><span class=\"p\">:</span>\n",
       "                <span class=\"p\">(</span><span class=\"n\">Q</span><span class=\"p\">,</span> <span class=\"n\">K</span><span class=\"p\">,</span> <span class=\"n\">V</span><span class=\"p\">)</span> <span class=\"o\">=</span> <span class=\"nb\">map</span><span class=\"p\">(</span><span class=\"bp\">self</span><span class=\"o\">.</span><span class=\"n\">split_heads</span><span class=\"p\">,(</span><span class=\"bp\">self</span><span class=\"o\">.</span><span class=\"n\">query_proj</span><span class=\"p\">(</span><span class=\"n\">x</span><span class=\"p\">),</span><span class=\"bp\">self</span><span class=\"o\">.</span><span class=\"n\">key_proj</span><span class=\"p\">(</span><span class=\"n\">x</span><span class=\"p\">),</span><span class=\"bp\">self</span><span class=\"o\">.</span><span class=\"n\">value_proj</span><span class=\"p\">(</span><span class=\"n\">x</span><span class=\"p\">)))</span>\n",
       "                <span class=\"n\">layer_data</span><span class=\"o\">.</span><span class=\"n\">append</span><span class=\"p\">(</span><span class=\"n\">K</span><span class=\"p\">)</span>\n",
       "                <span class=\"n\">layer_data</span><span class=\"o\">.</span><span class=\"n\">append</span><span class=\"p\">(</span><span class=\"n\">V</span><span class=\"p\">)</span>\n",
       "            <span class=\"k\">else</span><span class=\"p\">:</span>\n",
       "                <span class=\"k\">raise</span> <span class=\"ne\">ValueError</span><span class=\"p\">(</span><span class=\"sa\">f</span><span class=\"s2\">&quot;layer_data corrupt: </span><span class=\"si\">{</span><span class=\"n\">layer_data</span><span class=\"si\">}</span><span class=\"s2\">&quot;</span><span class=\"p\">)</span>\n",
       "\n",
       "        <span class=\"k\">if</span> <span class=\"bp\">self</span><span class=\"o\">.</span><span class=\"n\">sdp</span><span class=\"p\">:</span>\n",
       "            <span class=\"n\">attn</span> <span class=\"o\">=</span> <span class=\"n\">torch</span><span class=\"o\">.</span><span class=\"n\">nn</span><span class=\"o\">.</span><span class=\"n\">functional</span><span class=\"o\">.</span><span class=\"n\">scaled_dot_product_attention</span><span class=\"p\">(</span><span class=\"n\">query</span><span class=\"o\">=</span><span class=\"n\">Q</span><span class=\"p\">,</span> <span class=\"n\">key</span><span class=\"o\">=</span><span class=\"n\">K</span><span class=\"p\">,</span> <span class=\"n\">value</span><span class=\"o\">=</span><span class=\"n\">V</span><span class=\"p\">,</span> <span class=\"n\">attn_mask</span><span class=\"o\">=</span><span class=\"kc\">None</span><span class=\"p\">,</span> <span class=\"n\">dropout_p</span><span class=\"o\">=</span><span class=\"mf\">0.0</span><span class=\"p\">,</span> <span class=\"n\">is_causal</span><span class=\"o\">=</span><span class=\"n\">is_causal</span><span class=\"p\">)</span>\n",
       "        <span class=\"k\">else</span><span class=\"p\">:</span>\n",
       "            <span class=\"n\">device</span> <span class=\"o\">=</span> <span class=\"n\">x</span><span class=\"o\">.</span><span class=\"n\">device</span>\n",
       "            <span class=\"n\">n_ctx</span> <span class=\"o\">=</span> <span class=\"n\">x</span><span class=\"o\">.</span><span class=\"n\">shape</span><span class=\"p\">[</span><span class=\"o\">-</span><span class=\"mi\">2</span><span class=\"p\">]</span>\n",
       "            <span class=\"n\">mask</span> <span class=\"o\">=</span> <span class=\"p\">(</span><span class=\"mi\">1</span><span class=\"o\">-</span><span class=\"mi\">1</span><span class=\"o\">/</span><span class=\"n\">torch</span><span class=\"o\">.</span><span class=\"n\">tril</span><span class=\"p\">(</span><span class=\"n\">torch</span><span class=\"o\">.</span><span class=\"n\">ones</span><span class=\"p\">((</span><span class=\"n\">n_ctx</span><span class=\"p\">,</span><span class=\"n\">n_ctx</span><span class=\"p\">),</span><span class=\"n\">device</span><span class=\"o\">=</span><span class=\"n\">device</span><span class=\"p\">)))</span>\n",
       "            <span class=\"n\">QKT</span> <span class=\"o\">=</span> <span class=\"n\">torch</span><span class=\"o\">.</span><span class=\"n\">matmul</span><span class=\"p\">(</span><span class=\"n\">Q</span><span class=\"p\">,</span><span class=\"n\">K</span><span class=\"o\">.</span><span class=\"n\">transpose</span><span class=\"p\">(</span><span class=\"o\">-</span><span class=\"mi\">1</span><span class=\"p\">,</span><span class=\"o\">-</span><span class=\"mi\">2</span><span class=\"p\">))</span> <span class=\"o\">+</span> <span class=\"n\">mask</span>\n",
       "            <span class=\"n\">attn</span> <span class=\"o\">=</span> <span class=\"n\">softmax</span><span class=\"p\">(</span><span class=\"n\">QKT</span><span class=\"p\">,</span> <span class=\"n\">dim</span><span class=\"o\">=-</span><span class=\"mi\">1</span><span class=\"p\">)</span><span class=\"nd\">@V</span>\n",
       "\n",
       "        <span class=\"n\">x</span> <span class=\"o\">=</span> <span class=\"n\">x</span> <span class=\"o\">+</span> <span class=\"bp\">self</span><span class=\"o\">.</span><span class=\"n\">ln1</span><span class=\"p\">(</span><span class=\"bp\">self</span><span class=\"o\">.</span><span class=\"n\">linear</span><span class=\"p\">(</span><span class=\"bp\">self</span><span class=\"o\">.</span><span class=\"n\">merge_heads</span><span class=\"p\">(</span><span class=\"n\">attn</span><span class=\"p\">)))</span>\n",
       "        <span class=\"n\">x</span> <span class=\"o\">=</span> <span class=\"n\">x</span> <span class=\"o\">+</span> <span class=\"bp\">self</span><span class=\"o\">.</span><span class=\"n\">ln2</span><span class=\"p\">(</span><span class=\"bp\">self</span><span class=\"o\">.</span><span class=\"n\">ff2</span><span class=\"p\">(</span><span class=\"bp\">self</span><span class=\"o\">.</span><span class=\"n\">nonlinearity</span><span class=\"p\">(</span><span class=\"bp\">self</span><span class=\"o\">.</span><span class=\"n\">ff1</span><span class=\"p\">(</span><span class=\"n\">x</span><span class=\"p\">))))</span>\n",
       "\n",
       "        <span class=\"k\">return</span> <span class=\"n\">x</span>\n",
       "</pre></div>\n"
      ],
      "text/plain": [
       "<IPython.core.display.HTML object>"
      ]
     },
     "execution_count": 40,
     "metadata": {},
     "output_type": "execute_result"
    }
   ],
   "source": [
    "display_layercode(trainer.model.layer_classcode)"
   ]
  },
  {
   "cell_type": "markdown",
   "id": "f2fd8b4e",
   "metadata": {},
   "source": [
    "## generative testing"
   ]
  },
  {
   "cell_type": "code",
   "execution_count": 32,
   "id": "245f0270",
   "metadata": {},
   "outputs": [],
   "source": [
    "prompt = \"\"\"In a shocking finding, scientists discovered a herd of unicorns living in a\n",
    "remote, previously unexplored valley in the Andes Mountains. Even more\n",
    "surprising to the researchers was the fact that the unicorns spoke perfect\n",
    "English.\"\"\""
   ]
  },
  {
   "cell_type": "code",
   "execution_count": 37,
   "id": "b7b66004",
   "metadata": {},
   "outputs": [
    {
     "data": {
      "text/html": [
       "<pre style=\"background: black; color: lime; font-family: monospace\"><span style=\"color: white\">In a shocking finding, scientists discovered a herd of unicorns living in a\n",
       "remote, previously unexplored valley in the Andes Mountains. Even more\n",
       "surprising to the researchers was the fact that the unicorns spoke perfect\n",
       "English.</span>\n",
       "\n",
       "As the record shows, the characters of previous scientists were very\n",
       "curious about their methods for preventing explosions from causing extinction.\n",
       "\n",
       "In this finding, the scientists also found that the unicorns were unexplored and\n",
       "that they were explored by explorers.\n",
       "\n",
       "The methods also involved a series of studies and in a review of the\n",
       "current studies are further supported by the Fellowship and the Endeavor\n",
       "of the Creek Marine Science Foundation. The studies are largely intensive\n",
       "and relatively economical in the environment and may have to be found\n",
       "to be desired and future investigations were devoted to determining the\n",
       "performance of the unicorns. The studies have in addition to noting that\n",
       "in the late 19th century, the unicorns have been transported to the\n",
       "Empire for the purpose of investigating the extinction of unicorns. The\n",
       "Current Scientists Foundation is a hub for transporting unicorns into the\n",
       "Empire, where the unicorns are used to store microbial stocks and conserve the\n",
       "biomass and possess a simple microbial composition. The unicorns are distributed\n",
       "in a wide variety of formats, from the world to the natural world to the\n",
       "environment. The findings are in depth and information is comprehensively\n",
       "available to all organisms and environments.\n",
       "\n",
       "The Ranges of Unicorns and Corn Laboratories\n",
       "\n",
       "The ranges of unicorns and corn laboratories are designed to provide international archives\n",
       "for interpreting experiments for more detailed analysis, including the posssibilities of the\n",
       "scientific use, how to examine the probability of corn laboration and other\n",
       "thermal properties in the range of animal activity.\n",
       "\n",
       "The authors have then examined the ranges of unicorns and corn laborations found\n",
       "in the Empire using the ESA Space Collaborative Manual and the Corn Companies Manual and\n",
       "the Science Research Program. The ranges of unicorns and corn laborations of the\n",
       "Empire and the Empire include the structure of the Empire and the Corn Laboratory and the\n",
       "Corn Laboratory and the Empire\n",
       "</pre>"
      ],
      "text/plain": [
       "<IPython.core.display.HTML object>"
      ]
     },
     "metadata": {},
     "output_type": "display_data"
    }
   ],
   "source": [
    "autocomplete_task = asyncio.create_task(\n",
    "    trainer.model.display_autocomplete(prompt=prompt, temp=0.6, output_layer=-1, n_generate=2000, burst=32))"
   ]
  },
  {
   "cell_type": "code",
   "execution_count": null,
   "id": "9eba9b86",
   "metadata": {},
   "outputs": [],
   "source": [
    "autocomplete_task"
   ]
  },
  {
   "cell_type": "code",
   "execution_count": 36,
   "id": "04022464",
   "metadata": {},
   "outputs": [
    {
     "data": {
      "text/plain": [
       "True"
      ]
     },
     "execution_count": 36,
     "metadata": {},
     "output_type": "execute_result"
    }
   ],
   "source": [
    "autocomplete_task.cancel()"
   ]
  },
  {
   "cell_type": "markdown",
   "id": "5c7c6a4b",
   "metadata": {},
   "source": [
    "## loss metric\n"
   ]
  },
  {
   "cell_type": "code",
   "execution_count": 45,
   "id": "ddd48142",
   "metadata": {},
   "outputs": [
    {
     "data": {
      "image/png": "[encoded data removed]",
      "text/plain": [
       "<Figure size 640x480 with 1 Axes>"
      ]
     },
     "metadata": {},
     "output_type": "display_data"
    }
   ],
   "source": [
    "\n",
    "rf = math.floor(math.log2(trainer.n))\n",
    "r0 = max(0, min(rf-2, 13))\n",
    "\n",
    "X = np.array(trainer.time_emas[r0:rf]) - trainer.t0\n",
    "Y = np.stack(trainer.loss_by_layer_emas[r0:rf])\n",
    "\n",
    "# Create a figure and axis\n",
    "fig, ax = plt.subplots()\n",
    "\n",
    "labels = ['Layer {}'.format(i) for i in range(trainer.model.n_layers+1)]\n",
    "\n",
    "for idx in range(8, trainer.model.n_layers+1):\n",
    "    y_data = Y[:, idx]\n",
    "    # Plotting data for each layer\n",
    "    ax.plot(X, y_data, label=labels[idx])\n",
    "\n",
    "# Labeling the axes\n",
    "ax.set_xlabel('Time (s)')\n",
    "ax.set_ylabel('Loss (bpb)')\n",
    "\n",
    "# Setting the title\n",
    "ax.set_title('Training Loss by Layer Over Time')\n",
    "\n",
    "# Adding a legend\n",
    "#ax.legend()\n",
    "\n",
    "# Displaying the plot\n",
    "plt.show()"
   ]
  },
  {
   "cell_type": "code",
   "execution_count": 28,
   "id": "b4e0ac58",
   "metadata": {},
   "outputs": [
    {
     "data": {
      "text/plain": [
       "71.59844255447388"
      ]
     },
     "execution_count": 28,
     "metadata": {},
     "output_type": "execute_result"
    }
   ],
   "source": [
    "time.time() - trainer.t0"
   ]
  },
  {
   "cell_type": "code",
   "execution_count": 29,
   "id": "f95de3da",
   "metadata": {},
   "outputs": [
    {
     "data": {
      "text/plain": [
       "105"
      ]
     },
     "execution_count": 29,
     "metadata": {},
     "output_type": "execute_result"
    }
   ],
   "source": [
    "trainer.n"
   ]
  },
  {
   "cell_type": "code",
   "execution_count": 44,
   "id": "20d1988d",
   "metadata": {},
   "outputs": [
    {
     "name": "stdout",
     "output_type": "stream",
     "text": [
      "Layer = 0, L = 8.0 bpb, -dL/dt = 0.0 bpb per day\n",
      "Layer = 1, L = 3.6326818466186523 bpb, -dL/dt = -11.464 bpb per day\n",
      "Layer = 2, L = 2.0462656021118164 bpb, -dL/dt = -20.587 bpb per day\n",
      "Layer = 3, L = 1.5674024820327759 bpb, -dL/dt = -6.877 bpb per day\n",
      "Layer = 4, L = 1.4442989826202393 bpb, -dL/dt = -7.16 bpb per day\n",
      "Layer = 5, L = 1.3979315757751465 bpb, -dL/dt = -8.152 bpb per day\n",
      "Layer = 6, L = 1.3426779508590698 bpb, -dL/dt = -7.648 bpb per day\n",
      "Layer = 7, L = 1.2871968746185303 bpb, -dL/dt = -8.133 bpb per day\n",
      "Layer = 8, L = 1.266863465309143 bpb, -dL/dt = -8.598 bpb per day\n",
      "Layer = 9, L = 1.244120478630066 bpb, -dL/dt = -8.198 bpb per day\n",
      "Layer = 10, L = 1.2325421571731567 bpb, -dL/dt = -7.641 bpb per day\n",
      "Layer = 11, L = 1.2223180532455444 bpb, -dL/dt = -7.413 bpb per day\n",
      "Layer = 12, L = 1.214998722076416 bpb, -dL/dt = -7.533 bpb per day\n",
      "Layer = 13, L = 1.2102653980255127 bpb, -dL/dt = -7.628 bpb per day\n",
      "Layer = 14, L = 1.2070585489273071 bpb, -dL/dt = -7.685 bpb per day\n",
      "Layer = 15, L = 1.205318808555603 bpb, -dL/dt = -7.9 bpb per day\n",
      "Layer = 16, L = 1.2051036357879639 bpb, -dL/dt = -7.866 bpb per day\n"
     ]
    }
   ],
   "source": [
    "# should start being sensible for time.time() - trainer.t0 > 36000  (or earlier)\n",
    "import math\n",
    "rate_idx = min(14, math.floor(math.log2(trainer.n))-1)\n",
    "for idx in range(trainer.model.n_layers+1):\n",
    "    L0 = trainer.loss_by_layer_emas[rate_idx][idx]\n",
    "    L1 = trainer.loss_by_layer_emas[rate_idx+1][idx]\n",
    "    T0 = trainer.time_emas[rate_idx]\n",
    "    T1 = trainer.time_emas[rate_idx+1]\n",
    "    print(f\"Layer = {idx}, L = {L0} bpb, -dL/dt = {int(-(L0-L1)/(T0-T1)*3600*24*1000)/1000} bpb per day\")"
   ]
  },
  {
   "cell_type": "markdown",
   "id": "c89caa33",
   "metadata": {},
   "source": [
    "## save"
   ]
  },
  {
   "cell_type": "code",
   "execution_count": null,
   "id": "8e407706",
   "metadata": {},
   "outputs": [],
   "source": [
    "print(path)\n",
    "save_version(trainer, path)"
   ]
  },
  {
   "cell_type": "markdown",
   "id": "d404f48b",
   "metadata": {},
   "source": [
    "## parameter count, compute estimate"
   ]
  },
  {
   "cell_type": "code",
   "execution_count": 43,
   "id": "4a2d3a52",
   "metadata": {},
   "outputs": [
    {
     "name": "stdout",
     "output_type": "stream",
     "text": [
      "Performance: 10.67 TF\n"
     ]
    }
   ],
   "source": [
    "n_ctx = 1024\n",
    "d_model = 1024\n",
    "d_hidden = 4096\n",
    "n_layers = 16\n",
    "n_vocab_in = 256\n",
    "n_vocab_out = 256\n",
    "batch_size = 8\n",
    "compute_est = batch_size*4*n_layers*(\n",
    "    3*n_ctx*(d_model**2 + d_model) + # k,q,v proj\n",
    "    d_model * n_ctx ** 2 + # attention QKT\n",
    "    n_ctx ** 2 + # softmax ... missing up front constant\n",
    "    n_ctx**2 * d_model + # softmax(QKT) * V\n",
    "    n_ctx*(d_model**2 + 2*d_model) + # linear + ln1\n",
    "    n_ctx*(d_model*d_hidden + d_hidden) + # ff1\n",
    "    n_ctx*(d_hidden*d_model + 2*d_model) + # ff2 + ln2\n",
    "    2*n_ctx*d_model + # adding residuals\n",
    "    n_ctx*d_hidden + # nonlinearity ... missing up front constant\n",
    "    d_model*n_ctx*n_vocab_out) # read_head\n",
    "n_param_est = (n_layers*(3*(d_model**2 + d_model) + \n",
    "    (d_model**2 + d_model) +\n",
    "    d_model * d_hidden + d_hidden +\n",
    "    d_hidden * d_model + d_model +\n",
    "    2 * d_model) + # ln scalings\n",
    "    (n_layers+1)*(d_model*n_vocab_out + n_vocab_out) + n_vocab_in*d_embd)\n",
    "print(f\"Performance: {int(100*rate * compute_est / 1E12)/100} TF\")"
   ]
  },
  {
   "cell_type": "code",
   "execution_count": 42,
   "id": "96a01276",
   "metadata": {},
   "outputs": [
    {
     "name": "stdout",
     "output_type": "stream",
     "text": [
      "There are 201506816 parameters and 16 layers.\n"
     ]
    }
   ],
   "source": [
    "N = sum(p.numel() for p in trainer.model.parameters())\n",
    "print(f\"There are {N} parameters and {n_layers} layers.\")"
   ]
  },
  {
   "cell_type": "markdown",
   "id": "53cf178a",
   "metadata": {},
   "source": [
    "# some entropy estimates\n"
   ]
  },
  {
   "cell_type": "code",
   "execution_count": 41,
   "id": "b7b4c458",
   "metadata": {},
   "outputs": [
    {
     "name": "stdout",
     "output_type": "stream",
     "text": [
      "[(0, 4.99), (1, 3.98), (2, 3.24), (3, 2.68), (4, 2.2), (5, 1.96), (6, 1.77), (7, 1.62), (8, 1.48), (9, 1.35), (10, 1.24), (11, 1.12), (12, 1.0)]\n"
     ]
    }
   ],
   "source": [
    "# here are some entropy estimates for Pile n-grams (probably increasingly underestimating for larger n)\n",
    "lower = [4.99, 8.97, 12.21, 14.9, 17.11, 19.074, 20.853, 22.475, 23.959, 25.316, 26.556, 27.682, 28.69]\n",
    "lowermargin = [int(100*(b-a))/100.0 for (a,b) in zip(lower[:-1], lower[1:])]\n",
    "bpb_by_pos = [lower[0]] + lowermargin\n",
    "print(list(enumerate(bpb_by_pos)))"
   ]
  },
  {
   "cell_type": "code",
   "execution_count": null,
   "id": "413ea81e",
   "metadata": {},
   "outputs": [],
   "source": []
  }
 ],
 "metadata": {
  "kernelspec": {
   "display_name": "Python 3 (ipykernel)",
   "language": "python",
   "name": "python3"
  },
  "language_info": {
   "codemirror_mode": {
    "name": "ipython",
    "version": 3
   },
   "file_extension": ".py",
   "mimetype": "text/x-python",
   "name": "python",
   "nbconvert_exporter": "python",
   "pygments_lexer": "ipython3",
   "version": "3.10.6"
  }
 },
 "nbformat": 4,
 "nbformat_minor": 5
}
